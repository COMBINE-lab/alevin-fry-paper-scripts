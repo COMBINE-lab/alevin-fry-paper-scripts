{
 "cells": [
  {
   "cell_type": "code",
   "execution_count": 1,
   "metadata": {},
   "outputs": [],
   "source": [
    "from pytimeparse import parse"
   ]
  },
  {
   "cell_type": "code",
   "execution_count": 2,
   "metadata": {},
   "outputs": [],
   "source": [
    "import datetime\n",
    "import pandas as pd\n",
    "import numpy as np\n",
    "import seaborn as sns\n",
    "import matplotlib as plt"
   ]
  },
  {
   "cell_type": "code",
   "execution_count": 3,
   "metadata": {},
   "outputs": [],
   "source": [
    "top_dir = None\n",
    "with open('../configs/config.json') as f:\n",
    "    top_dir = json.load(f)['top_dir']\n",
    "pipeline_trace = pd.read_csv(os.path.join(top_dir,'results','pipeline_trace.csv'), sep='\\t')"
   ]
  },
  {
   "cell_type": "code",
   "execution_count": 4,
   "metadata": {},
   "outputs": [],
   "source": [
    "def read_datasets(pt):\n",
    "    datasets = set()\n",
    "    for ind in pt.index:\n",
    "        dataset = pt['tag'][ind].split(\":\")[1]\n",
    "        datasets.add(dataset)\n",
    "    return list(datasets)"
   ]
  },
  {
   "cell_type": "code",
   "execution_count": 5,
   "metadata": {},
   "outputs": [],
   "source": [
    "# from https://stackoverflow.com/questions/42865724/parse-human-readable-filesizes-into-bytes\n",
    "units = {\"B\": 1, \"KB\": 10**3, \"MB\": 10**6, \"GB\": 10**9, \"TB\": 10**12}\n",
    "def parse_size(size):\n",
    "    number, unit = [string.strip() for string in size.split()]\n",
    "    return int(float(number)*units[unit]/10**3)"
   ]
  },
  {
   "cell_type": "code",
   "execution_count": 6,
   "metadata": {},
   "outputs": [],
   "source": [
    "def compute_rss_times(pt, tool_id):\n",
    "    times = {}\n",
    "    rss = {}\n",
    "    for ind in pt.index:\n",
    "        if tool_id in pt['name'][ind]:\n",
    "            dataset = pt['tag'][ind].split(\":\")[1]\n",
    "            if (pt['realtime'][ind] != '-'):\n",
    "                time = parse(pt['realtime'][ind])\n",
    "                times[dataset] = time\n",
    "            else:\n",
    "                times[dataset] = 0\n",
    "            if (pt['peak_rss'][ind] != '-'):\n",
    "                rss_ = parse_size(pt['peak_rss'][ind])\n",
    "                rss[dataset] = rss_\n",
    "            else:\n",
    "                rss[dataset] = 0\n",
    "    return times, rss"
   ]
  },
  {
   "cell_type": "code",
   "execution_count": 7,
   "metadata": {},
   "outputs": [],
   "source": [
    "def compute_af_rss_times(pt, map_mode, gpl_mode):\n",
    "    times = {}\n",
    "    rss = {}\n",
    "    for ind in pt.index:\n",
    "        name = pt['name'][ind]\n",
    "        dataset = pt['tag'][ind].split(\":\")[1]\n",
    "        if 'af_' in name:\n",
    "            if ('map' in name and map_mode in name) or \\\n",
    "            (('quant' in name or 'collate' in name or 'gpl' in name) and gpl_mode in name):\n",
    "                if pt['realtime'][ind] != '-':\n",
    "                    time = parse(pt['realtime'][ind])\n",
    "                    if dataset not in times:\n",
    "                        times[dataset] = time\n",
    "                    else:\n",
    "                        times[dataset] += time\n",
    "                else:\n",
    "                    times[dataset] = 0\n",
    "                if pt['peak_rss'][ind] != '-':\n",
    "                    rss_ = parse_size(pt['peak_rss'][ind])\n",
    "                    if (dataset not in rss):\n",
    "                        rss[dataset] = rss_\n",
    "                    else:\n",
    "                        rss[dataset] = max(rss_, rss[dataset])\n",
    "                else:\n",
    "                    rss[dataset] = 0\n",
    "    return times, rss"
   ]
  },
  {
   "cell_type": "code",
   "execution_count": 8,
   "metadata": {},
   "outputs": [],
   "source": [
    "times = {}\n",
    "rss = {}"
   ]
  },
  {
   "cell_type": "code",
   "execution_count": 9,
   "metadata": {},
   "outputs": [],
   "source": [
    "times['starsolo'], rss['starsolo'] = compute_rss_times(pipeline_trace, 'ss_')"
   ]
  },
  {
   "cell_type": "code",
   "execution_count": 10,
   "metadata": {},
   "outputs": [],
   "source": [
    "times['kb'], rss['kb'] = compute_rss_times(pipeline_trace, 'kb_')"
   ]
  },
  {
   "cell_type": "code",
   "execution_count": 11,
   "metadata": {},
   "outputs": [],
   "source": [
    "times['af_dense_knee'], rss['af_dense_knee'] = compute_af_rss_times(pipeline_trace, 'dense', 'knee')\n",
    "times['af_sparse_knee'], rss['af_sparse_knee'] = compute_af_rss_times(pipeline_trace, 'sparse', 'knee')\n",
    "times['af_dense_unfilt'], rss['af_dense_unfilt'] = compute_af_rss_times(pipeline_trace, 'dense', 'unfilt')\n",
    "times['af_sparse_unfilt'], rss['af_sparse_unfilt'] = compute_af_rss_times(pipeline_trace, 'sparse', 'unfilt')"
   ]
  },
  {
   "cell_type": "code",
   "execution_count": 12,
   "metadata": {},
   "outputs": [],
   "source": [
    "datasets = read_datasets(pipeline_trace)\n",
    "tools = ['starsolo', 'kb', 'af_dense_knee', 'af_dense_unfilt', 'af_sparse_knee', 'af_sparse_unfilt']"
   ]
  },
  {
   "cell_type": "code",
   "execution_count": 13,
   "metadata": {},
   "outputs": [],
   "source": [
    "all_times = pd.DataFrame(index = datasets, columns = tools)\n",
    "all_rss = pd.DataFrame(index = datasets, columns = tools)\n",
    "\n",
    "for dataset in datasets:\n",
    "    for tool in tools:\n",
    "        all_times.loc[dataset][tool] = times[tool][dataset]\n",
    "        all_rss.loc[dataset][tool] = rss[tool][dataset]"
   ]
  },
  {
   "cell_type": "code",
   "execution_count": 14,
   "metadata": {},
   "outputs": [],
   "source": [
    "ratios_knee = []\n",
    "ratios_unfilt = []\n",
    "for dataset in datasets:\n",
    "    ratio_knee = all_times.loc[dataset]['af_sparse_knee'] / all_times.loc[dataset]['af_dense_knee']\n",
    "    ratio_unfilt = all_times.loc[dataset]['af_sparse_unfilt'] / all_times.loc[dataset]['af_dense_unfilt']\n",
    "    ratios_knee += [ratio_knee]\n",
    "    ratios_unfilt += [ratio_unfilt]\n",
    "all_times['sparse-dense knee ratio'] = ratios_knee\n",
    "all_times['sparse-dense unfilt ratio'] = ratios_unfilt"
   ]
  },
  {
   "cell_type": "code",
   "execution_count": 15,
   "metadata": {},
   "outputs": [],
   "source": [
    "ratios_knee = []\n",
    "ratios_unfilt = []\n",
    "for dataset in datasets:\n",
    "    ratio_knee = all_rss.loc[dataset]['af_sparse_knee'] / all_rss.loc[dataset]['af_dense_knee']\n",
    "    ratio_unfilt = all_rss.loc[dataset]['af_sparse_unfilt'] / all_rss.loc[dataset]['af_dense_unfilt']\n",
    "    ratios_knee += [ratio_knee]\n",
    "    ratios_unfilt += [ratio_unfilt]\n",
    "all_rss['sparse-dense knee ratio'] = ratios_knee\n",
    "all_rss['sparse-dense unfilt ratio'] = ratios_unfilt"
   ]
  },
  {
   "cell_type": "code",
   "execution_count": 16,
   "metadata": {},
   "outputs": [
    {
     "data": {
      "text/plain": [
       "['mouse_placenta', 'dr_pineal_s2', 'mouse_pancreas', 'sim_data', 'pbmc10k']"
      ]
     },
     "execution_count": 16,
     "metadata": {},
     "output_type": "execute_result"
    }
   ],
   "source": [
    "datasets"
   ]
  },
  {
   "cell_type": "code",
   "execution_count": 17,
   "metadata": {},
   "outputs": [
    {
     "data": {
      "text/html": [
       "<div>\n",
       "<style scoped>\n",
       "    .dataframe tbody tr th:only-of-type {\n",
       "        vertical-align: middle;\n",
       "    }\n",
       "\n",
       "    .dataframe tbody tr th {\n",
       "        vertical-align: top;\n",
       "    }\n",
       "\n",
       "    .dataframe thead th {\n",
       "        text-align: right;\n",
       "    }\n",
       "</style>\n",
       "<table border=\"1\" class=\"dataframe\">\n",
       "  <thead>\n",
       "    <tr style=\"text-align: right;\">\n",
       "      <th></th>\n",
       "      <th>starsolo</th>\n",
       "      <th>kb</th>\n",
       "      <th>af_dense_knee</th>\n",
       "      <th>af_dense_unfilt</th>\n",
       "      <th>af_sparse_knee</th>\n",
       "      <th>af_sparse_unfilt</th>\n",
       "      <th>sparse-dense knee ratio</th>\n",
       "      <th>sparse-dense unfilt ratio</th>\n",
       "    </tr>\n",
       "  </thead>\n",
       "  <tbody>\n",
       "    <tr>\n",
       "      <th>mouse_placenta</th>\n",
       "      <td>2063</td>\n",
       "      <td>3243</td>\n",
       "      <td>1063</td>\n",
       "      <td>916.9</td>\n",
       "      <td>931</td>\n",
       "      <td>784.9</td>\n",
       "      <td>0.875823</td>\n",
       "      <td>0.856037</td>\n",
       "    </tr>\n",
       "    <tr>\n",
       "      <th>dr_pineal_s2</th>\n",
       "      <td>2058</td>\n",
       "      <td>1976</td>\n",
       "      <td>1038</td>\n",
       "      <td>833.6</td>\n",
       "      <td>1013</td>\n",
       "      <td>808.6</td>\n",
       "      <td>0.975915</td>\n",
       "      <td>0.970010</td>\n",
       "    </tr>\n",
       "    <tr>\n",
       "      <th>mouse_pancreas</th>\n",
       "      <td>4891</td>\n",
       "      <td>3953</td>\n",
       "      <td>2011</td>\n",
       "      <td>1878.5</td>\n",
       "      <td>1842</td>\n",
       "      <td>1709.5</td>\n",
       "      <td>0.915962</td>\n",
       "      <td>0.910035</td>\n",
       "    </tr>\n",
       "    <tr>\n",
       "      <th>sim_data</th>\n",
       "      <td>1297</td>\n",
       "      <td>1165</td>\n",
       "      <td>698.5</td>\n",
       "      <td>901</td>\n",
       "      <td>714.5</td>\n",
       "      <td>917</td>\n",
       "      <td>1.022906</td>\n",
       "      <td>1.017758</td>\n",
       "    </tr>\n",
       "    <tr>\n",
       "      <th>pbmc10k</th>\n",
       "      <td>2666</td>\n",
       "      <td>2579</td>\n",
       "      <td>1262</td>\n",
       "      <td>1576</td>\n",
       "      <td>1375</td>\n",
       "      <td>1689</td>\n",
       "      <td>1.089540</td>\n",
       "      <td>1.071701</td>\n",
       "    </tr>\n",
       "  </tbody>\n",
       "</table>\n",
       "</div>"
      ],
      "text/plain": [
       "               starsolo    kb af_dense_knee af_dense_unfilt af_sparse_knee  \\\n",
       "mouse_placenta     2063  3243          1063           916.9            931   \n",
       "dr_pineal_s2       2058  1976          1038           833.6           1013   \n",
       "mouse_pancreas     4891  3953          2011          1878.5           1842   \n",
       "sim_data           1297  1165         698.5             901          714.5   \n",
       "pbmc10k            2666  2579          1262            1576           1375   \n",
       "\n",
       "               af_sparse_unfilt  sparse-dense knee ratio  \\\n",
       "mouse_placenta            784.9                 0.875823   \n",
       "dr_pineal_s2              808.6                 0.975915   \n",
       "mouse_pancreas           1709.5                 0.915962   \n",
       "sim_data                    917                 1.022906   \n",
       "pbmc10k                    1689                 1.089540   \n",
       "\n",
       "                sparse-dense unfilt ratio  \n",
       "mouse_placenta                   0.856037  \n",
       "dr_pineal_s2                     0.970010  \n",
       "mouse_pancreas                   0.910035  \n",
       "sim_data                         1.017758  \n",
       "pbmc10k                          1.071701  "
      ]
     },
     "execution_count": 17,
     "metadata": {},
     "output_type": "execute_result"
    }
   ],
   "source": [
    "all_times"
   ]
  },
  {
   "cell_type": "code",
   "execution_count": 18,
   "metadata": {},
   "outputs": [
    {
     "data": {
      "text/html": [
       "<div>\n",
       "<style scoped>\n",
       "    .dataframe tbody tr th:only-of-type {\n",
       "        vertical-align: middle;\n",
       "    }\n",
       "\n",
       "    .dataframe tbody tr th {\n",
       "        vertical-align: top;\n",
       "    }\n",
       "\n",
       "    .dataframe thead th {\n",
       "        text-align: right;\n",
       "    }\n",
       "</style>\n",
       "<table border=\"1\" class=\"dataframe\">\n",
       "  <thead>\n",
       "    <tr style=\"text-align: right;\">\n",
       "      <th></th>\n",
       "      <th>starsolo</th>\n",
       "      <th>kb</th>\n",
       "      <th>af_dense_knee</th>\n",
       "      <th>af_dense_unfilt</th>\n",
       "      <th>af_sparse_knee</th>\n",
       "      <th>af_sparse_unfilt</th>\n",
       "      <th>sparse-dense knee ratio</th>\n",
       "      <th>sparse-dense unfilt ratio</th>\n",
       "    </tr>\n",
       "  </thead>\n",
       "  <tbody>\n",
       "    <tr>\n",
       "      <th>mouse_placenta</th>\n",
       "      <td>27700000</td>\n",
       "      <td>57700000</td>\n",
       "      <td>6800000</td>\n",
       "      <td>6800000</td>\n",
       "      <td>4400000</td>\n",
       "      <td>4400000</td>\n",
       "      <td>0.647059</td>\n",
       "      <td>0.647059</td>\n",
       "    </tr>\n",
       "    <tr>\n",
       "      <th>dr_pineal_s2</th>\n",
       "      <td>15500000</td>\n",
       "      <td>4200000</td>\n",
       "      <td>4800000</td>\n",
       "      <td>4800000</td>\n",
       "      <td>3400000</td>\n",
       "      <td>3400000</td>\n",
       "      <td>0.708333</td>\n",
       "      <td>0.708333</td>\n",
       "    </tr>\n",
       "    <tr>\n",
       "      <th>mouse_pancreas</th>\n",
       "      <td>35100000</td>\n",
       "      <td>31200000</td>\n",
       "      <td>6200000</td>\n",
       "      <td>6200000</td>\n",
       "      <td>4200000</td>\n",
       "      <td>4200000</td>\n",
       "      <td>0.677419</td>\n",
       "      <td>0.677419</td>\n",
       "    </tr>\n",
       "    <tr>\n",
       "      <th>sim_data</th>\n",
       "      <td>30400000</td>\n",
       "      <td>4400000</td>\n",
       "      <td>8900000</td>\n",
       "      <td>8900000</td>\n",
       "      <td>6000000</td>\n",
       "      <td>6000000</td>\n",
       "      <td>0.674157</td>\n",
       "      <td>0.674157</td>\n",
       "    </tr>\n",
       "    <tr>\n",
       "      <th>pbmc10k</th>\n",
       "      <td>30500000</td>\n",
       "      <td>7000000</td>\n",
       "      <td>9900000</td>\n",
       "      <td>9900000</td>\n",
       "      <td>6700000</td>\n",
       "      <td>6700000</td>\n",
       "      <td>0.676768</td>\n",
       "      <td>0.676768</td>\n",
       "    </tr>\n",
       "  </tbody>\n",
       "</table>\n",
       "</div>"
      ],
      "text/plain": [
       "                starsolo        kb af_dense_knee af_dense_unfilt  \\\n",
       "mouse_placenta  27700000  57700000       6800000         6800000   \n",
       "dr_pineal_s2    15500000   4200000       4800000         4800000   \n",
       "mouse_pancreas  35100000  31200000       6200000         6200000   \n",
       "sim_data        30400000   4400000       8900000         8900000   \n",
       "pbmc10k         30500000   7000000       9900000         9900000   \n",
       "\n",
       "               af_sparse_knee af_sparse_unfilt  sparse-dense knee ratio  \\\n",
       "mouse_placenta        4400000          4400000                 0.647059   \n",
       "dr_pineal_s2          3400000          3400000                 0.708333   \n",
       "mouse_pancreas        4200000          4200000                 0.677419   \n",
       "sim_data              6000000          6000000                 0.674157   \n",
       "pbmc10k               6700000          6700000                 0.676768   \n",
       "\n",
       "                sparse-dense unfilt ratio  \n",
       "mouse_placenta                   0.647059  \n",
       "dr_pineal_s2                     0.708333  \n",
       "mouse_pancreas                   0.677419  \n",
       "sim_data                         0.674157  \n",
       "pbmc10k                          0.676768  "
      ]
     },
     "execution_count": 18,
     "metadata": {},
     "output_type": "execute_result"
    }
   ],
   "source": [
    "all_rss"
   ]
  },
  {
   "cell_type": "code",
   "execution_count": 19,
   "metadata": {},
   "outputs": [
    {
     "data": {
      "text/plain": [
       "[Text(0, 0, 'mouse_placenta'),\n",
       " Text(1, 0, 'dr_pineal_s2'),\n",
       " Text(2, 0, 'mouse_pancreas'),\n",
       " Text(3, 0, 'sim_data'),\n",
       " Text(4, 0, 'pbmc10k')]"
      ]
     },
     "execution_count": 19,
     "metadata": {},
     "output_type": "execute_result"
    },
    {
     "data": {
      "image/png": "[encoded data removed]",
      "text/plain": [
       "<Figure size 432x288 with 1 Axes>"
      ]
     },
     "metadata": {},
     "output_type": "display_data"
    }
   ],
   "source": [
    "sns.set()\n",
    "ax = all_times.plot.bar(ylabel = 'time (s)')\n",
    "ax.set_xticklabels(ax.get_xticklabels(),rotation=45)"
   ]
  },
  {
   "cell_type": "code",
   "execution_count": 20,
   "metadata": {},
   "outputs": [
    {
     "data": {
      "text/plain": [
       "[Text(0, 0, 'mouse_placenta'),\n",
       " Text(1, 0, 'dr_pineal_s2'),\n",
       " Text(2, 0, 'mouse_pancreas'),\n",
       " Text(3, 0, 'sim_data'),\n",
       " Text(4, 0, 'pbmc10k')]"
      ]
     },
     "execution_count": 20,
     "metadata": {},
     "output_type": "execute_result"
    },
    {
     "data": {
      "image/png": "[encoded data removed]",
      "text/plain": [
       "<Figure size 432x288 with 1 Axes>"
      ]
     },
     "metadata": {},
     "output_type": "display_data"
    }
   ],
   "source": [
    "sns.set()\n",
    "ax = all_rss.plot.bar(ylabel = 'rss (KB)')\n",
    "ax.set_xticklabels(ax.get_xticklabels(),rotation=45)"
   ]
  },
  {
   "cell_type": "code",
   "execution_count": null,
   "metadata": {},
   "outputs": [],
   "source": []
  }
 ],
 "metadata": {
  "kernelspec": {
   "display_name": "Python 3",
   "language": "python",
   "name": "python3"
  },
  "language_info": {
   "codemirror_mode": {
    "name": "ipython",
    "version": 3
   },
   "file_extension": ".py",
   "mimetype": "text/x-python",
   "name": "python",
   "nbconvert_exporter": "python",
   "pygments_lexer": "ipython3",
   "version": "3.8.3"
  }
 },
 "nbformat": 4,
 "nbformat_minor": 4
}
