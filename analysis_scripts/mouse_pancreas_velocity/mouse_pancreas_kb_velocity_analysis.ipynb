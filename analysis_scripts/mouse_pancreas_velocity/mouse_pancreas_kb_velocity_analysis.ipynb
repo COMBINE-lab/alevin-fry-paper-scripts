{
 "cells": [
  {
   "cell_type": "code",
   "execution_count": null,
   "id": "freelance-printer",
   "metadata": {},
   "outputs": [],
   "source": [
    "import matplotlib\n",
    "import numpy as np\n",
    "import pandas as pd\n",
    "import scanpy as sc\n",
    "import anndata\n",
    "import scvelo as scv\n",
    "import scipy\n",
    "import json\n",
    "import os\n",
    "\n",
    "with open('../../configs/config.json') as f:\n",
    "    input_paths = json.load(f)\n",
    "top_dir = input_paths['top_dir']\n",
    "kbdir = os.path.sep.join([top_dir, \"results\", \"kb\", \"mouse_pancreas\", \"kb_out\", \"counts_unfiltered\"])\n",
    "e2n_path = os.path.sep.join([top_dir, \"refs\", \"refdata-cellranger-mm10-2.1.0\", \"geneid_to_name.txt\"])\n",
    "os.makedirs(\"anndata\", exist_ok= True)"
   ]
  },
  {
   "cell_type": "markdown",
   "id": "gothic-tracker",
   "metadata": {},
   "source": [
    "## Read in rownames and colnames of both spliced mtarix and unspliced matrix"
   ]
  },
  {
   "cell_type": "code",
   "execution_count": null,
   "id": "blessed-musician",
   "metadata": {},
   "outputs": [],
   "source": [
    "e2n = dict([ l.rstrip().split() for l in open(e2n_path).readlines()])\n",
    "spliced_var_names = [ l.rstrip() for l in open(os.path.sep.join([kbdir, \"spliced.genes.txt\"])).readlines()]\n",
    "spliced_var_names = [e2n[e.split(\".\")[0]] for e in spliced_var_names]\n",
    "unspliced_var_names = [ l.rstrip() for l in open(os.path.sep.join([kbdir, \"unspliced.genes.txt\"])).readlines()]\n",
    "unspliced_var_names = [e2n[e.split(\".\")[0]] for e in unspliced_var_names]\n",
    "spliced_obs_names = [ l.rstrip() for l in open(os.path.sep.join([kbdir, \"spliced.barcodes.txt\"])).readlines() ]\n",
    "unspliced_obs_names = [ l.rstrip() for l in open(os.path.sep.join([kbdir, \"unspliced.barcodes.txt\"])).readlines() ]"
   ]
  },
  {
   "cell_type": "markdown",
   "id": "pregnant-poetry",
   "metadata": {},
   "source": [
    "## Read in count matrices and intersect with example dataset"
   ]
  },
  {
   "cell_type": "code",
   "execution_count": null,
   "id": "harmful-iceland",
   "metadata": {},
   "outputs": [],
   "source": [
    "example_adata = scv.datasets.pancreas()\n",
    "spliced = sc.read_mtx(os.path.sep.join([kbdir, \"spliced.mtx\"]))\n",
    "spliced.var_names = spliced_var_names\n",
    "spliced.obs_names = spliced_obs_names\n",
    "spliced.var_names_make_unique()\n",
    "spliced = spliced[example_adata.obs_names, example_adata.var_names]\n",
    "\n",
    "unspliced = sc.read_mtx(os.path.sep.join([kbdir, \"unspliced.mtx\"]))\n",
    "unspliced.var_names = unspliced_var_names\n",
    "unspliced.obs_names = unspliced_obs_names\n",
    "unspliced.var_names_make_unique()\n",
    "unspliced = unspliced[example_adata.obs_names, example_adata.var_names]"
   ]
  },
  {
   "cell_type": "markdown",
   "id": "approved-harvey",
   "metadata": {},
   "source": [
    "## Define adata and write it"
   ]
  },
  {
   "cell_type": "code",
   "execution_count": null,
   "id": "soviet-equilibrium",
   "metadata": {
    "scrolled": true
   },
   "outputs": [],
   "source": [
    "adata = spliced\n",
    "adata.layers[\"spliced\"] = adata.X\n",
    "adata.layers[\"unspliced\"] = unspliced.X\n",
    "subset_adata.obs = example_adata.obs\n",
    "subset_adata.obsm['X_umap'] = example_adata.obsm['X_umap']\n",
    "subset_adata.write('anndata/pancreas_kb_trimmed.h5ad', compression='gzip')\n"
   ]
  },
  {
   "cell_type": "markdown",
   "id": "interim-execution",
   "metadata": {},
   "source": [
    "## Get some statistic"
   ]
  },
  {
   "cell_type": "code",
   "execution_count": null,
   "id": "understood-brazilian",
   "metadata": {},
   "outputs": [],
   "source": [
    "spliced = subset_adata.layers['spliced']\n",
    "unspliced = subset_adata.layers['unspliced']"
   ]
  },
  {
   "cell_type": "code",
   "execution_count": null,
   "id": "recorded-homeless",
   "metadata": {},
   "outputs": [],
   "source": [
    "spliced.sum().sum() / (spliced.sum().sum()+unspliced.sum().sum())"
   ]
  },
  {
   "cell_type": "code",
   "execution_count": null,
   "id": "received-bosnia",
   "metadata": {
    "scrolled": true
   },
   "outputs": [],
   "source": [
    "unspliced.sum().sum() / (spliced.sum().sum()+unspliced.sum().sum())"
   ]
  },
  {
   "cell_type": "markdown",
   "id": "recovered-fraction",
   "metadata": {},
   "source": [
    "## Run scVelo"
   ]
  },
  {
   "cell_type": "code",
   "execution_count": null,
   "id": "differential-vehicle",
   "metadata": {},
   "outputs": [],
   "source": [
    "adata = scv.read(\"anndata/pancreas_kb_trimmed.h5ad\")\n"
   ]
  },
  {
   "cell_type": "code",
   "execution_count": null,
   "id": "dominican-moderator",
   "metadata": {
    "scrolled": true
   },
   "outputs": [],
   "source": [
    "sc.tl.pca(adata)\n",
    "sc.pp.neighbors(adata)\n",
    "sc.tl.tsne(adata)\n",
    "# housekeeping\n",
    "matplotlib.use('AGG')\n",
    "scv.settings.set_figure_params('scvelo')\n",
    "\n",
    "# get the proportion of spliced and unspliced count\n",
    "scv.utils.show_proportions(adata)\n",
    "\n",
    "# filter cells and genes, then normalize expression values\n",
    "scv.pp.filter_and_normalize(adata, min_shared_counts=20, n_top_genes=2000,enforce=True)\n",
    "\n",
    "# scVelo pipeline\n",
    "scv.pp.moments(adata, n_pcs=30, n_neighbors=30)\n",
    "scv.tl.recover_dynamics(adata, n_jobs = 11)\n",
    "scv.tl.velocity(adata, mode = 'dynamical')\n",
    "scv.tl.velocity_graph(adata)\n",
    "scv.pl.velocity_embedding_stream(adata, basis='umap', save=\"umap_pancreas_kb.pdf\")\n",
    "scv.pl.velocity_embedding_stream(adata, basis='tsne', save=\"tsne_pancreas_kb.pdf\")\n",
    "scv.tl.latent_time(adata)\n",
    "scv.pl.scatter(adata, color='latent_time', color_map='gnuplot', size=80, save = \"latent_time_pancreas_kb.png\")\n"
   ]
  },
  {
   "cell_type": "code",
   "execution_count": null,
   "id": "fundamental-attendance",
   "metadata": {},
   "outputs": [],
   "source": []
  }
 ],
 "metadata": {
  "kernelspec": {
   "display_name": "Python 3",
   "language": "python",
   "name": "python3"
  },
  "language_info": {
   "codemirror_mode": {
    "name": "ipython",
    "version": 3
   },
   "file_extension": ".py",
   "mimetype": "text/x-python",
   "name": "python",
   "nbconvert_exporter": "python",
   "pygments_lexer": "ipython3",
   "version": "3.8.5"
  }
 },
 "nbformat": 4,
 "nbformat_minor": 5
}
