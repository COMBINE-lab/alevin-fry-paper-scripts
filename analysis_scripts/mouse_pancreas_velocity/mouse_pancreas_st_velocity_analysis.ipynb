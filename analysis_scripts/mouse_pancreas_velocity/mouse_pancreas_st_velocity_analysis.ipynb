{
 "cells": [
  {
   "cell_type": "code",
   "execution_count": null,
   "id": "attempted-comparative",
   "metadata": {},
   "outputs": [],
   "source": [
    "import matplotlib\n",
    "import numpy as np\n",
    "import pandas as pd\n",
    "import scanpy as sc\n",
    "import anndata\n",
    "import scvelo as scv\n",
    "import scipy\n",
    "import json\n",
    "import os\n",
    "example_adata = scv.datasets.pancreas()\n",
    "\n",
    "\n",
    "with open('../../configs/config.json') as f:\n",
    "    input_paths = json.load(f)\n",
    "stardir = os.path.sep.join([top_dir, \"results\", \"star_solo\", \"mouse_pancreas\", \"star_solo\", \"Solo.out\", \"Velocyto\", \"filtered\"])\n",
    "os.makedirs(\"anndata\", exist_ok= True)\n",
    "var_names = [ l.rstrip().split()[1] for l in open(os.path.sep.join([stardir, \"features.tsv\"])).readlines()]\n",
    "obs_names = [ l.rstrip() for l in open(os.path.sep.join([stardir, \"barcodes.tsv\"])).readlines() ]"
   ]
  },
  {
   "cell_type": "markdown",
   "id": "suitable-stroke",
   "metadata": {},
   "source": [
    "## Read in the count matrices"
   ]
  },
  {
   "cell_type": "code",
   "execution_count": null,
   "id": "standard-shield",
   "metadata": {
    "scrolled": true
   },
   "outputs": [],
   "source": [
    "spliced = sc.read_mtx(os.path.sep.join([stardir, \"spliced.mtx\"])).T\n",
    "spliced.var_names = var_names\n",
    "spliced.obs_names = obs_names\n",
    "spliced.var_names_make_unique()\n",
    "spliced = spliced[example_adata.obs_names, example_adata.var_names]\n",
    "\n",
    "unspliced = sc.read_mtx(os.path.sep.join([stardir, \"unspliced.mtx\"])).T\n",
    "unspliced.var_names = var_names\n",
    "unspliced.obs_names = obs_names\n",
    "unspliced.var_names_make_unique()\n",
    "unspliced = unspliced[example_adata.obs_names, example_adata.var_names]\n",
    "\n",
    "ambiguous = sc.read_mtx(os.path.sep.join([stardir, \"ambiguous.mtx\"])).T\n",
    "ambiguous.var_names = var_names\n",
    "ambiguous.obs_names = obs_names\n",
    "ambiguous.var_names_make_unique()\n",
    "ambiguous = ambiguous[example_adata.obs_names, example_adata.var_names]\n",
    "\n",
    "\n",
    "\n",
    "spliced = pd.DataFrame.sparse.from_spmatrix(spliced.X,columns=spliced.var_names, index=spliced.obs_names).sparse.to_dense()\n",
    "unspliced = pd.DataFrame.sparse.from_spmatrix(unspliced.X,columns=unspliced.var_names, index=unspliced.obs_names).sparse.to_dense()\n",
    "ambiguous = pd.DataFrame.sparse.from_spmatrix(ambiguous.X,columns=ambiguous.var_names, index=ambiguous.obs_names).sparse.to_dense()\n",
    "\n"
   ]
  },
  {
   "cell_type": "code",
   "execution_count": null,
   "id": "novel-confirmation",
   "metadata": {
    "scrolled": true
   },
   "outputs": [],
   "source": [
    "spliced.sum().sum() / (spliced.sum().sum()+unspliced.sum().sum()+ambiguous.sum().sum())"
   ]
  },
  {
   "cell_type": "code",
   "execution_count": null,
   "id": "surprising-approval",
   "metadata": {
    "scrolled": true
   },
   "outputs": [],
   "source": [
    "unspliced.sum().sum() / (spliced.sum().sum()+unspliced.sum().sum()+ambiguous.sum().sum())"
   ]
  },
  {
   "cell_type": "code",
   "execution_count": null,
   "id": "proof-egyptian",
   "metadata": {},
   "outputs": [],
   "source": [
    "ambiguous.sum().sum() / (spliced.sum().sum()+unspliced.sum().sum()+ambiguous.sum().sum())"
   ]
  },
  {
   "cell_type": "markdown",
   "id": "secret-cardiff",
   "metadata": {},
   "source": [
    "## A discard"
   ]
  },
  {
   "cell_type": "code",
   "execution_count": null,
   "id": "immune-breach",
   "metadata": {},
   "outputs": [],
   "source": [
    "# create AnnData using spliced and unspliced count matrix\n",
    "adata = anndata.AnnData(X = spliced, \n",
    "                        layers = dict(spliced = spliced, \n",
    "                                    unspliced = unspliced))\n",
    "\n",
    "adata.var_names_make_unique()\n",
    "\n",
    "\n",
    "adata.obs = example_adata.obs\n",
    "adata.obsm['X_umap'] = example_adata.obsm['X_umap']\n",
    "\n",
    "adata.write('anndata/pancreas_star_trimmed_A_discard.h5ad', compression='gzip')\n",
    "scv.utils.show_proportions(adata)\n",
    "\n",
    "del(adata)"
   ]
  },
  {
   "cell_type": "markdown",
   "id": "municipal-hebrew",
   "metadata": {},
   "source": [
    "## A to S"
   ]
  },
  {
   "cell_type": "code",
   "execution_count": null,
   "id": "vulnerable-layer",
   "metadata": {},
   "outputs": [],
   "source": [
    "new_spliced = spliced + ambiguous\n",
    "\n",
    "adata = anndata.AnnData(X = new_spliced, \n",
    "                        layers = dict(spliced = new_spliced, \n",
    "                                    unspliced = unspliced))\n",
    "adata.var_names_make_unique()\n",
    "adata.obs = example_adata.obs\n",
    "adata.obsm['X_umap'] = example_adata.obsm['X_umap']\n",
    "adata.write('anndata/pancreas_star_trimmed_A_S.h5ad', compression='gzip')\n",
    "scv.utils.show_proportions(adata)\n",
    "\n",
    "del(new_spliced, adata)\n"
   ]
  },
  {
   "cell_type": "markdown",
   "id": "infrared-virginia",
   "metadata": {},
   "source": [
    "## A to U"
   ]
  },
  {
   "cell_type": "code",
   "execution_count": null,
   "id": "residential-weight",
   "metadata": {},
   "outputs": [],
   "source": [
    "new_unspliced = unspliced + ambiguous\n",
    "\n",
    "adata = anndata.AnnData(X = spliced, \n",
    "                        layers = dict(spliced = spliced, \n",
    "                                    unspliced = new_unspliced))\n",
    "adata.obs = example_adata.obs\n",
    "adata.obsm['X_umap'] = example_adata.obsm['X_umap']\n",
    "adata.write('anndata/pancreas_star_trimmed_A_U.h5ad', compression='gzip')\n",
    "scv.utils.show_proportions(adata)\n",
    "\n",
    "del(new_unspliced, adata)\n"
   ]
  },
  {
   "cell_type": "markdown",
   "id": "unlike-piece",
   "metadata": {},
   "source": [
    "## A to S:U"
   ]
  },
  {
   "cell_type": "code",
   "execution_count": null,
   "id": "knowing-cleanup",
   "metadata": {},
   "outputs": [],
   "source": [
    "s_ratio = spliced/(spliced+unspliced)\n",
    "s_ratio = s_ratio.fillna(0.5)\n",
    "new_spliced = spliced + s_ratio * ambiguous\n",
    "new_unspliced = unspliced + (1-s_ratio)* ambiguous\n",
    "\n",
    "adata = anndata.AnnData(X = new_spliced, \n",
    "                        layers = dict(spliced = new_spliced, \n",
    "                                    unspliced = new_unspliced))\n",
    "adata.obs = example_adata.obs\n",
    "adata.write('anndata/pancreas_star_trimmed_A_S2U.h5ad', compression='gzip')\n",
    "scv.utils.show_proportions(adata)\n",
    "\n",
    "del(s_ratio, new_spliced, new_unspliced, adata)\n"
   ]
  },
  {
   "cell_type": "markdown",
   "id": "controversial-travel",
   "metadata": {},
   "source": [
    "## A to S+A:U "
   ]
  },
  {
   "cell_type": "code",
   "execution_count": null,
   "id": "compound-alarm",
   "metadata": {},
   "outputs": [],
   "source": [
    "s_ratio = (spliced+ambiguous)/(spliced+ambiguous+unspliced)\n",
    "s_ratio = s_ratio.fillna(0.5)\n",
    "new_spliced = spliced + s_ratio * ambiguous\n",
    "new_unspliced = unspliced + (1-s_ratio)* ambiguous\n",
    "\n",
    "adata = anndata.AnnData(X = new_spliced, \n",
    "                        layers = dict(spliced = new_spliced, \n",
    "                                    unspliced = new_unspliced))\n",
    "adata.obs = example_adata.obs\n",
    "adata.obsm['X_umap'] = example_adata.obsm['X_umap']\n",
    "adata.write('anndata/pancreas_star_trimmed_A_S+A2U.h5ad', compression='gzip')\n",
    "scv.utils.show_proportions(adata)\n",
    "\n",
    "del(s_ratio, new_spliced, new_unspliced, adata)\n"
   ]
  },
  {
   "cell_type": "markdown",
   "id": "royal-worship",
   "metadata": {},
   "source": [
    "## A to S:U+A "
   ]
  },
  {
   "cell_type": "code",
   "execution_count": null,
   "id": "institutional-indie",
   "metadata": {},
   "outputs": [],
   "source": [
    "s_ratio = (spliced)/(spliced+ambiguous+unspliced)\n",
    "s_ratio = s_ratio.fillna(0.5)\n",
    "new_spliced = spliced + s_ratio * ambiguous\n",
    "new_unspliced = unspliced + (1-s_ratio)* ambiguous\n",
    "\n",
    "adata = anndata.AnnData(X = new_spliced, \n",
    "                        layers = dict(spliced = new_spliced, \n",
    "                                    unspliced = new_unspliced))\n",
    "adata.obs = example_adata.obs\n",
    "adata.obsm['X_umap'] = example_adata.obsm['X_umap']\n",
    "adata.write('anndata/pancreas_star_trimmed_A_S2U+A.h5ad', compression='gzip')\n",
    "scv.utils.show_proportions(adata)\n",
    "\n",
    "del(s_ratio, new_spliced, new_unspliced, adata)\n"
   ]
  },
  {
   "cell_type": "markdown",
   "id": "spread-interpretation",
   "metadata": {},
   "source": [
    "## A uniform"
   ]
  },
  {
   "cell_type": "code",
   "execution_count": null,
   "id": "modular-qualification",
   "metadata": {},
   "outputs": [],
   "source": [
    "s_ratio = 0.5\n",
    "new_spliced = spliced + s_ratio * ambiguous\n",
    "new_unspliced = unspliced + (1-s_ratio)* ambiguous\n",
    "\n",
    "adata = anndata.AnnData(X = new_spliced, \n",
    "                        layers = dict(spliced = new_spliced, \n",
    "                                    unspliced = new_unspliced))\n",
    "adata.var_names_make_unique()\n",
    "adata.obs = example_adata.obs\n",
    "adata.obsm['X_umap'] = example_adata.obsm['X_umap']\n",
    "adata.write('anndata/pancreas_star_trimmed_A_unif.h5ad', compression='gzip')\n",
    "scv.utils.show_proportions(adata)\n",
    "\n",
    "del(s_ratio, new_spliced, new_unspliced, adata)\n"
   ]
  },
  {
   "cell_type": "markdown",
   "id": "loose-character",
   "metadata": {},
   "source": [
    "# The following code run on PC"
   ]
  },
  {
   "cell_type": "code",
   "execution_count": null,
   "id": "broken-upgrade",
   "metadata": {},
   "outputs": [],
   "source": [
    "import matplotlib\n",
    "import numpy as np\n",
    "import pandas as pd\n",
    "import scanpy as sc\n",
    "import anndata\n",
    "import scvelo as scv\n",
    "import scipy\n",
    "import json\n",
    "import os\n",
    "example_adata = scv.datasets.pancreas()\n"
   ]
  },
  {
   "cell_type": "code",
   "execution_count": null,
   "id": "functional-beverage",
   "metadata": {},
   "outputs": [],
   "source": [
    "adata = scv.read(\"anndata/pancreas_star_trimmed_A_discard.h5ad\")\n",
    "adata.obs_names"
   ]
  },
  {
   "cell_type": "markdown",
   "id": "surprised-acceptance",
   "metadata": {},
   "source": [
    "## discard A\n"
   ]
  },
  {
   "cell_type": "code",
   "execution_count": null,
   "id": "documented-haven",
   "metadata": {
    "scrolled": false
   },
   "outputs": [],
   "source": [
    "adata = scv.read(\"anndata/pancreas_star_trimmed_A_discard.h5ad\")\n",
    "# get embeddings\n",
    "sc.tl.pca(adata)\n",
    "sc.pp.neighbors(adata)\n",
    "sc.tl.tsne(adata)\n",
    "# sc.tl.umap(adata, n_components = 2)\n",
    "adata.obsm['X_umap'] = example_adata.obsm['X_umap']\n",
    "\n",
    "# housekeeping\n",
    "matplotlib.use('AGG')\n",
    "scv.settings.set_figure_params('scvelo')\n",
    "\n",
    "# get the proportion of spliced and unspliced count\n",
    "scv.utils.show_proportions(adata)\n",
    "\n",
    "# filter cells and genes, then normalize expression values\n",
    "scv.pp.filter_and_normalize(adata, min_shared_counts=20, n_top_genes=2000,enforce=True)\n",
    "\n",
    "# scVelo pipeline\n",
    "scv.pp.moments(adata, n_pcs=30, n_neighbors=30)\n",
    "scv.tl.recover_dynamics(adata, n_jobs = 11)\n",
    "scv.tl.velocity(adata, mode = 'dynamical')\n",
    "scv.tl.velocity_graph(adata)\n",
    "scv.pl.velocity_embedding_stream(adata, basis='umap', save=\"umap_pancreas_star_A_discard.png\")\n",
    "scv.pl.velocity_embedding_stream(adata, basis='tsne', save=\"tsne_pancreas_star_A_discard.png\")\n",
    "scv.tl.latent_time(adata)\n",
    "scv.pl.scatter(adata, color='latent_time', color_map='gnuplot', size=80, save = \"latent_time_pancreas_star_A_discard.png\")\n"
   ]
  },
  {
   "cell_type": "markdown",
   "id": "average-egyptian",
   "metadata": {},
   "source": [
    "## A to S"
   ]
  },
  {
   "cell_type": "code",
   "execution_count": null,
   "id": "settled-reliance",
   "metadata": {},
   "outputs": [],
   "source": [
    "adata = scv.read(\"anndata/pancreas_star_trimmed_A_S.h5ad\")\n",
    "# get embeddings\n",
    "sc.tl.pca(adata)\n",
    "sc.pp.neighbors(adata)\n",
    "sc.tl.tsne(adata)\n",
    "# sc.tl.umap(adata, n_components = 2)\n",
    "adata.obsm['X_umap'] = example_adata.obsm['X_umap']\n",
    "\n",
    "# housekeeping\n",
    "matplotlib.use('AGG')\n",
    "scv.settings.set_figure_params('scvelo')\n",
    "\n",
    "# get the proportion of spliced and unspliced count\n",
    "scv.utils.show_proportions(adata)\n",
    "\n",
    "# filter cells and genes, then normalize expression values\n",
    "scv.pp.filter_and_normalize(adata, min_shared_counts=20, n_top_genes=2000,enforce=True)\n",
    "\n",
    "# scVelo pipeline\n",
    "scv.pp.moments(adata, n_pcs=30, n_neighbors=30)\n",
    "scv.tl.recover_dynamics(adata, n_jobs = 11)\n",
    "scv.tl.velocity(adata, mode = 'dynamical')\n",
    "scv.tl.velocity_graph(adata)\n",
    "scv.pl.velocity_embedding_stream(adata, basis='umap', save=\"umap_pancreas_star_A_S.png\")\n",
    "scv.pl.velocity_embedding_stream(adata, basis='tsne', save=\"tsne_pancreas_star_A_S.png\")\n",
    "scv.tl.latent_time(adata)\n",
    "scv.pl.scatter(adata, color='latent_time', color_map='gnuplot', size=80, save = \"latent_time_pancreas_star_A_S.png\")\n"
   ]
  },
  {
   "cell_type": "markdown",
   "id": "radio-position",
   "metadata": {},
   "source": [
    "## A to U"
   ]
  },
  {
   "cell_type": "code",
   "execution_count": null,
   "id": "legendary-drawing",
   "metadata": {},
   "outputs": [],
   "source": [
    "adata = scv.read(\"anndata/pancreas_star_trimmed_A_U.h5ad\")\n",
    "# get embeddings\n",
    "sc.tl.pca(adata)\n",
    "sc.pp.neighbors(adata)\n",
    "sc.tl.tsne(adata)\n",
    "# sc.tl.umap(adata, n_components = 2)\n",
    "adata.obsm['X_umap'] = example_adata.obsm['X_umap']\n",
    "\n",
    "# housekeeping\n",
    "matplotlib.use('AGG')\n",
    "scv.settings.set_figure_params('scvelo')\n",
    "\n",
    "# get the proportion of spliced and unspliced count\n",
    "scv.utils.show_proportions(adata)\n",
    "\n",
    "# filter cells and genes, then normalize expression values\n",
    "scv.pp.filter_and_normalize(adata, min_shared_counts=20, n_top_genes=2000,enforce=True)\n",
    "\n",
    "# scVelo pipeline\n",
    "scv.pp.moments(adata, n_pcs=30, n_neighbors=30)\n",
    "scv.tl.recover_dynamics(adata, n_jobs = 11)\n",
    "scv.tl.velocity(adata, mode = 'dynamical')\n",
    "scv.tl.velocity_graph(adata)\n",
    "scv.pl.velocity_embedding_stream(adata, basis='umap', save=\"umap_pancreas_star_A_U.png\")\n",
    "scv.pl.velocity_embedding_stream(adata, basis='tsne', save=\"tsne_pancreas_star_A_U.png\")\n",
    "scv.tl.latent_time(adata)\n",
    "scv.pl.scatter(adata, color='latent_time', color_map='gnuplot', size=80, save = \"latent_time_pancreas_star_A_U.png\")\n"
   ]
  },
  {
   "cell_type": "markdown",
   "id": "related-cartridge",
   "metadata": {},
   "source": [
    "## A to S:U\n"
   ]
  },
  {
   "cell_type": "code",
   "execution_count": null,
   "id": "sweet-syntax",
   "metadata": {},
   "outputs": [],
   "source": [
    "adata = scv.read(\"anndata/pancreas_star_trimmed_A_S2U.h5ad\")\n",
    "# get embeddings\n",
    "sc.tl.pca(adata)\n",
    "sc.pp.neighbors(adata)\n",
    "sc.tl.tsne(adata)\n",
    "# sc.tl.umap(adata, n_components = 2)\n",
    "adata.obsm['X_umap'] = example_adata.obsm['X_umap']\n",
    "\n",
    "# housekeeping\n",
    "matplotlib.use('AGG')\n",
    "scv.settings.set_figure_params('scvelo')\n",
    "\n",
    "# get the proportion of spliced and unspliced count\n",
    "scv.utils.show_proportions(adata)\n",
    "\n",
    "# filter cells and genes, then normalize expression values\n",
    "scv.pp.filter_and_normalize(adata, min_shared_counts=20, n_top_genes=2000,enforce=True)\n",
    "\n",
    "# scVelo pipeline\n",
    "scv.pp.moments(adata, n_pcs=30, n_neighbors=30)\n",
    "scv.tl.recover_dynamics(adata, n_jobs = 11)\n",
    "scv.tl.velocity(adata, mode = 'dynamical')\n",
    "scv.tl.velocity_graph(adata)\n",
    "scv.pl.velocity_embedding_stream(adata, basis='umap', save=\"umap_pancreas_star_A_S2U.png\")\n",
    "scv.pl.velocity_embedding_stream(adata, basis='tsne', save=\"tsne_pancreas_star_A_S2U.png\")\n",
    "scv.tl.latent_time(adata)\n",
    "scv.pl.scatter(adata, color='latent_time', color_map='gnuplot', size=80, save = \"latent_time_pancreas_star_A_S2U.png\")\n"
   ]
  },
  {
   "cell_type": "markdown",
   "id": "synthetic-channel",
   "metadata": {},
   "source": [
    "## A to S+A:U\n"
   ]
  },
  {
   "cell_type": "code",
   "execution_count": null,
   "id": "rubber-record",
   "metadata": {},
   "outputs": [],
   "source": [
    "adata = scv.read(\"anndata/pancreas_star_trimmed_A_S+A2U.h5ad\")\n",
    "# get embeddings\n",
    "sc.tl.pca(adata)\n",
    "sc.pp.neighbors(adata)\n",
    "sc.tl.tsne(adata)\n",
    "# sc.tl.umap(adata, n_components = 2)\n",
    "adata.obsm['X_umap'] = example_adata.obsm['X_umap']\n",
    "\n",
    "# housekeeping\n",
    "matplotlib.use('AGG')\n",
    "scv.settings.set_figure_params('scvelo')\n",
    "\n",
    "# get the proportion of spliced and unspliced count\n",
    "scv.utils.show_proportions(adata)\n",
    "\n",
    "# filter cells and genes, then normalize expression values\n",
    "scv.pp.filter_and_normalize(adata, min_shared_counts=20, n_top_genes=2000,enforce=True)\n",
    "\n",
    "# scVelo pipeline\n",
    "scv.pp.moments(adata, n_pcs=30, n_neighbors=30)\n",
    "scv.tl.recover_dynamics(adata, n_jobs = 11)\n",
    "scv.tl.velocity(adata, mode = 'dynamical')\n",
    "scv.tl.velocity_graph(adata)\n",
    "scv.pl.velocity_embedding_stream(adata, basis='umap', save=\"umap_pancreas_star_A_S+A2U.png\")\n",
    "scv.pl.velocity_embedding_stream(adata, basis='tsne', save=\"tsne_pancreas_star_A_S+A2U.png\")\n",
    "scv.tl.latent_time(adata)\n",
    "scv.pl.scatter(adata, color='latent_time', color_map='gnuplot', size=80, save = \"latent_time_pancreas_star_A_S+A2U.png\")\n"
   ]
  },
  {
   "cell_type": "markdown",
   "id": "registered-vaccine",
   "metadata": {},
   "source": [
    "## A to S:U+A\n"
   ]
  },
  {
   "cell_type": "code",
   "execution_count": null,
   "id": "female-zoning",
   "metadata": {},
   "outputs": [],
   "source": [
    "adata = scv.read(\"anndata/pancreas_star_trimmed_A_S2U+A.h5ad\")\n",
    "# get embeddings\n",
    "sc.tl.pca(adata)\n",
    "sc.pp.neighbors(adata)\n",
    "sc.tl.tsne(adata)\n",
    "# sc.tl.umap(adata, n_components = 2)\n",
    "adata.obsm['X_umap'] = example_adata.obsm['X_umap']\n",
    "\n",
    "# housekeeping\n",
    "matplotlib.use('AGG')\n",
    "scv.settings.set_figure_params('scvelo')\n",
    "\n",
    "# get the proportion of spliced and unspliced count\n",
    "scv.utils.show_proportions(adata)\n",
    "\n",
    "# filter cells and genes, then normalize expression values\n",
    "scv.pp.filter_and_normalize(adata, min_shared_counts=20, n_top_genes=2000,enforce=True)\n",
    "\n",
    "# scVelo pipeline\n",
    "scv.pp.moments(adata, n_pcs=30, n_neighbors=30)\n",
    "scv.tl.recover_dynamics(adata, n_jobs = 11)\n",
    "scv.tl.velocity(adata, mode = 'dynamical')\n",
    "scv.tl.velocity_graph(adata)\n",
    "scv.pl.velocity_embedding_stream(adata, basis='umap', save=\"umap_pancreas_star_A_S2U+A.png\")\n",
    "scv.pl.velocity_embedding_stream(adata, basis='tsne', save=\"tsne_pancreas_star_A_S2U+A.png\")\n",
    "scv.tl.latent_time(adata)\n",
    "scv.pl.scatter(adata, color='latent_time', color_map='gnuplot', size=80, save = \"latent_time_pancreas_star_A_S2U+A.png\")\n"
   ]
  },
  {
   "cell_type": "markdown",
   "id": "growing-olive",
   "metadata": {},
   "source": [
    "## A to uniform\n"
   ]
  },
  {
   "cell_type": "code",
   "execution_count": null,
   "id": "indonesian-gambling",
   "metadata": {},
   "outputs": [],
   "source": [
    "adata = scv.read(\"anndata/pancreas_star_trimmed_A_unif.h5ad\")\n",
    "# get embeddings\n",
    "sc.tl.pca(adata)\n",
    "sc.pp.neighbors(adata)\n",
    "sc.tl.tsne(adata)\n",
    "# sc.tl.umap(adata, n_components = 2)\n",
    "adata.obsm['X_umap'] = example_adata.obsm['X_umap']\n",
    "\n",
    "# housekeeping\n",
    "matplotlib.use('AGG')\n",
    "scv.settings.set_figure_params('scvelo')\n",
    "\n",
    "# get the proportion of spliced and unspliced count\n",
    "scv.utils.show_proportions(adata)\n",
    "\n",
    "# filter cells and genes, then normalize expression values\n",
    "scv.pp.filter_and_normalize(adata, min_shared_counts=20, n_top_genes=2000,enforce=True)\n",
    "\n",
    "# scVelo pipeline\n",
    "scv.pp.moments(adata, n_pcs=30, n_neighbors=30)\n",
    "scv.tl.recover_dynamics(adata, n_jobs = 11)\n",
    "scv.tl.velocity(adata, mode = 'dynamical')\n",
    "scv.tl.velocity_graph(adata)\n",
    "scv.pl.velocity_embedding_stream(adata, basis='umap', save=\"umap_pancreas_star_A_unif.png\")\n",
    "scv.pl.velocity_embedding_stream(adata, basis='tsne', save=\"tsne_pancreas_star_A_unif.png\")\n",
    "scv.tl.latent_time(adata)\n",
    "scv.pl.scatter(adata, color='latent_time', color_map='gnuplot', size=80, save = \"latent_time_pancreas_star_A_unif.png\")\n"
   ]
  },
  {
   "cell_type": "code",
   "execution_count": null,
   "id": "choice-detective",
   "metadata": {},
   "outputs": [],
   "source": []
  },
  {
   "cell_type": "code",
   "execution_count": null,
   "id": "polyphonic-analysis",
   "metadata": {},
   "outputs": [],
   "source": []
  }
 ],
 "metadata": {
  "kernelspec": {
   "display_name": "Python 3",
   "language": "python",
   "name": "python3"
  },
  "language_info": {
   "codemirror_mode": {
    "name": "ipython",
    "version": 3
   },
   "file_extension": ".py",
   "mimetype": "text/x-python",
   "name": "python",
   "nbconvert_exporter": "python",
   "pygments_lexer": "ipython3",
   "version": "3.8.5"
  }
 },
 "nbformat": 4,
 "nbformat_minor": 5
}
